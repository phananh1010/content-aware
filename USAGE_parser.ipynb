{
 "cells": [
  {
   "cell_type": "code",
   "execution_count": 11,
   "metadata": {},
   "outputs": [
    {
     "data": {
      "text/plain": [
       "<module 'log_parser_namespace' from 'log_parser_namespace.pyc'>"
      ]
     },
     "execution_count": 11,
     "metadata": {},
     "output_type": "execute_result"
    }
   ],
   "source": [
    "#this code segment shows how to use the parser\n",
    "#TODO: \n",
    "import os\n",
    "import __future__\n",
    "import numpy as np\n",
    "import log_parser\n",
    "import namespace\n",
    "import log_parser_namespace\n",
    "\n",
    "reload(namespace)\n",
    "reload(log_parser)\n",
    "reload(log_parser_namespace)"
   ]
  },
  {
   "cell_type": "code",
   "execution_count": 12,
   "metadata": {},
   "outputs": [],
   "source": [
    "Parser = log_parser.LogParser()"
   ]
  },
  {
   "cell_type": "code",
   "execution_count": 13,
   "metadata": {},
   "outputs": [
    {
     "name": "stdout",
     "output_type": "stream",
     "text": [
      "(<type 'exceptions.ValueError'>, ('cannot reshape array of size 114277 into shape (6)',))\n",
      "ID=0 is not finished\n"
     ]
    }
   ],
   "source": [
    "#NOTE!!!: this step require segment stats extract and wriiten to file before hand\n",
    "#\n",
    "for ID in [0, 1, 10, 15, 19, 21 ,23, 4, 7]:\n",
    "    try:\n",
    "        Parser.parse_video_metainfo(ID)\n",
    "    except Exception as inst:\n",
    "        print (type(inst), inst.args)#, inst)\n",
    "        print ('SKIPPED ID={}'.format(ID))\n",
    "        continue"
   ]
  },
  {
   "cell_type": "code",
   "execution_count": 14,
   "metadata": {},
   "outputs": [],
   "source": [
    "tempdict = Parser.load_metainfo_dict()"
   ]
  },
  {
   "cell_type": "code",
   "execution_count": null,
   "metadata": {},
   "outputs": [],
   "source": []
  },
  {
   "cell_type": "code",
   "execution_count": 15,
   "metadata": {},
   "outputs": [
    {
     "name": "stdout",
     "output_type": "stream",
     "text": [
      "756\n"
     ]
    }
   ],
   "source": [
    "print len(tempdict)"
   ]
  },
  {
   "cell_type": "code",
   "execution_count": 10,
   "metadata": {},
   "outputs": [
    {
     "name": "stdout",
     "output_type": "stream",
     "text": [
      "687\n"
     ]
    }
   ],
   "source": []
  },
  {
   "cell_type": "code",
   "execution_count": 12,
   "metadata": {},
   "outputs": [
    {
     "name": "stdout",
     "output_type": "stream",
     "text": [
      "625\n"
     ]
    }
   ],
   "source": []
  },
  {
   "cell_type": "code",
   "execution_count": null,
   "metadata": {},
   "outputs": [],
   "source": []
  },
  {
   "cell_type": "code",
   "execution_count": null,
   "metadata": {},
   "outputs": [],
   "source": []
  },
  {
   "cell_type": "code",
   "execution_count": null,
   "metadata": {},
   "outputs": [],
   "source": []
  },
  {
   "cell_type": "code",
   "execution_count": 9,
   "metadata": {},
   "outputs": [],
   "source": [
    "dat_raw = np.array(open('./scripts/segmentinfo/metainfo_23.txt').read().split('\\n')[:-1])"
   ]
  },
  {
   "cell_type": "code",
   "execution_count": 10,
   "metadata": {},
   "outputs": [
    {
     "data": {
      "text/plain": [
       "'/home/u9167/content_aware/data/YOUTUBE_data/videos/23/FCJOasI0mVo+23+0/i000_x1080_b128k.mp4'"
      ]
     },
     "execution_count": 10,
     "metadata": {},
     "output_type": "execute_result"
    }
   ],
   "source": [
    "dat_raw[-1]"
   ]
  },
  {
   "cell_type": "code",
   "execution_count": null,
   "metadata": {},
   "outputs": [],
   "source": [
    "#TODO: check the metainfo_23.txt in next 2 hours to see consistency has been fixed\n",
    "'/home/u9167/content_aware/data/YOUTUBE_data/videos/23/FCJOasI0mVo+23+0/i000_x1080_b128k.mp4'"
   ]
  }
 ],
 "metadata": {
  "kernelspec": {
   "display_name": "Python (env_torch)",
   "language": "python",
   "name": "env_torch"
  },
  "language_info": {
   "codemirror_mode": {
    "name": "ipython",
    "version": 2
   },
   "file_extension": ".py",
   "mimetype": "text/x-python",
   "name": "python",
   "nbconvert_exporter": "python",
   "pygments_lexer": "ipython2",
   "version": "2.7.15"
  }
 },
 "nbformat": 4,
 "nbformat_minor": 2
}
