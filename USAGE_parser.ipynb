{
 "cells": [
  {
   "cell_type": "code",
   "execution_count": 3,
   "metadata": {},
   "outputs": [
    {
     "data": {
      "text/plain": [
       "<module 'log_parser_namespace' from '/home/u9167/content_aware/log_parser_namespace.py'>"
      ]
     },
     "execution_count": 3,
     "metadata": {},
     "output_type": "execute_result"
    }
   ],
   "source": [
    "#this code segment shows how to use the parser\n",
    "#TODO: \n",
    "import os\n",
    "import __future__\n",
    "import numpy as np\n",
    "import log_parser\n",
    "import namespace\n",
    "import log_parser_namespace\n",
    "\n",
    "import importlib\n",
    "importlib.reload(namespace)\n",
    "importlib.reload(log_parser)\n",
    "importlib.reload(log_parser_namespace)"
   ]
  },
  {
   "cell_type": "code",
   "execution_count": 4,
   "metadata": {},
   "outputs": [],
   "source": [
    "Parser = log_parser.LogParser()"
   ]
  },
  {
   "cell_type": "code",
   "execution_count": 5,
   "metadata": {},
   "outputs": [
    {
     "name": "stdout",
     "output_type": "stream",
     "text": [
      "<class 'FileNotFoundError'> (2, 'No such file or directory')\n",
      "SKIPPED ID=1\n"
     ]
    }
   ],
   "source": [
    "#NOTE!!!: this step require segment stats extract and wriiten to file before hand\n",
    "#\n",
    "for ID in [0, 1, 10, 15, 19, 21 ,23, 4, 7, 2, 3, 6, 11, 13]:\n",
    "    try:\n",
    "        Parser.parse_video_metainfo(ID)\n",
    "    except Exception as inst:\n",
    "        print (type(inst), inst.args)#, inst)\n",
    "        print ('SKIPPED ID={}'.format(ID))\n",
    "        continue"
   ]
  },
  {
   "cell_type": "code",
   "execution_count": 6,
   "metadata": {},
   "outputs": [
    {
     "data": {
      "text/plain": [
       "'/home/u9167/content_aware/scripts/segmentinfo/metainfo_13.txt'"
      ]
     },
     "execution_count": 6,
     "metadata": {},
     "output_type": "execute_result"
    }
   ],
   "source": [
    "log_parser_namespace.LOG_FILETEMPLATE.format(ID)"
   ]
  },
  {
   "cell_type": "code",
   "execution_count": null,
   "metadata": {},
   "outputs": [],
   "source": []
  },
  {
   "cell_type": "code",
   "execution_count": 4,
   "metadata": {},
   "outputs": [],
   "source": [
    "tempdict = Parser.load_metainfo_dict()"
   ]
  },
  {
   "cell_type": "code",
   "execution_count": 11,
   "metadata": {},
   "outputs": [
    {
     "data": {
      "text/plain": [
       "{'i000_x1080_b1024k': (1080, 1920, 23.97442727757059, 822672.0, 10.428),\n",
       " 'i000_x1080_b128k': (1080, 1920, 23.97442727757059, 120952.0, 10.428),\n",
       " 'i000_x1080_b2048k': (1080, 1920, 23.97442727757059, 1609269.0, 10.428),\n",
       " 'i000_x1080_b256k': (1080, 1920, 23.97442727757059, 195599.0, 10.428),\n",
       " 'i000_x1080_b32k': (1080, 1920, 23.97442727757059, 14216.0, 10.428),\n",
       " 'i000_x1080_b512k': (1080, 1920, 23.97442727757059, 421418.0, 10.428),\n",
       " 'i000_x1080_b64k': (1080, 1920, 23.97442727757059, 61426.0, 10.428),\n",
       " 'i000_x144_b128k': (144, 256, 23.97442727757059, 131345.0, 10.428),\n",
       " 'i000_x144_b32k': (144, 256, 23.97442727757059, 32348.0, 10.428),\n",
       " 'i000_x144_b64k': (144, 256, 23.97442727757059, 57013.0, 10.428),\n",
       " 'i000_x240_b128k': (240, 426, 23.97442727757059, 121665.0, 10.428),\n",
       " 'i000_x240_b256k': (240, 426, 23.97442727757059, 239860.0, 10.428),\n",
       " 'i000_x240_b32k': (240, 426, 23.97442727757059, 31591.0, 10.428),\n",
       " 'i000_x240_b64k': (240, 426, 23.97442727757059, 54921.0, 10.428),\n",
       " 'i000_x360_b128k': (360, 640, 23.97442727757059, 118276.0, 10.428),\n",
       " 'i000_x360_b256k': (360, 640, 23.97442727757059, 235502.0, 10.428),\n",
       " 'i000_x360_b32k': (360, 640, 23.97442727757059, 27653.0, 10.428),\n",
       " 'i000_x360_b512k': (360, 640, 23.97442727757059, 463617.0, 10.428),\n",
       " 'i000_x360_b64k': (360, 640, 23.97442727757059, 53573.0, 10.428),\n",
       " 'i000_x480_b1024k': (480, 854, 23.97442727757059, 858392.0, 10.428),\n",
       " 'i000_x480_b128k': (480, 854, 23.97442727757059, 113128.0, 10.428),\n",
       " 'i000_x480_b256k': (480, 854, 23.97442727757059, 223860.0, 10.428),\n",
       " 'i000_x480_b32k': (480, 854, 23.97442727757059, 26096.0, 10.428),\n",
       " 'i000_x480_b512k': (480, 854, 23.97442727757059, 440290.0, 10.428),\n",
       " 'i000_x480_b64k': (480, 854, 23.97442727757059, 49223.0, 10.428),\n",
       " 'i000_x720_b1024k': (720, 1280, 23.97442727757059, 827576.0, 10.428),\n",
       " 'i000_x720_b128k': (720, 1280, 23.97442727757059, 104574.0, 10.428),\n",
       " 'i000_x720_b2048k': (720, 1280, 23.97442727757059, 1637145.0, 10.428),\n",
       " 'i000_x720_b256k': (720, 1280, 23.97442727757059, 220478.0, 10.428),\n",
       " 'i000_x720_b32k': (720, 1280, 23.97442727757059, 28859.0, 10.428),\n",
       " 'i000_x720_b512k': (720, 1280, 23.97442727757059, 428558.0, 10.428),\n",
       " 'i000_x720_b64k': (720, 1280, 23.97442727757059, 47354.0, 10.428),\n",
       " 'i001_x1080_b1024k': (1080, 1920, 23.97442727757059, 807968.0, 7.592),\n",
       " 'i001_x1080_b128k': (1080, 1920, 23.97442727757059, 107129.0, 7.592),\n",
       " 'i001_x1080_b2048k': (1080, 1920, 23.97442727757059, 1583710.0, 7.592),\n",
       " 'i001_x1080_b256k': (1080, 1920, 23.97442727757059, 199617.0, 7.592),\n",
       " 'i001_x1080_b32k': (1080, 1920, 23.97442727757059, 14551.0, 7.592),\n",
       " 'i001_x1080_b512k': (1080, 1920, 23.97442727757059, 415869.0, 7.592),\n",
       " 'i001_x1080_b64k': (1080, 1920, 23.97442727757059, 41044.0, 7.592),\n",
       " 'i001_x144_b128k': (144, 256, 23.97442727757059, 129734.0, 7.592),\n",
       " 'i001_x144_b32k': (144, 256, 23.97442727757059, 31865.0, 7.592),\n",
       " 'i001_x144_b64k': (144, 256, 23.97442727757059, 55871.0, 7.592),\n",
       " 'i001_x240_b128k': (240, 426, 23.97442727757059, 118666.0, 7.592),\n",
       " 'i001_x240_b256k': (240, 426, 23.97442727757059, 235381.0, 7.592),\n",
       " 'i001_x240_b32k': (240, 426, 23.97442727757059, 30195.0, 7.592),\n",
       " 'i001_x240_b64k': (240, 426, 23.97442727757059, 53501.0, 7.592),\n",
       " 'i001_x360_b128k': (360, 640, 23.97442727757059, 117618.0, 7.592),\n",
       " 'i001_x360_b256k': (360, 640, 23.97442727757059, 233514.0, 7.592),\n",
       " 'i001_x360_b32k': (360, 640, 23.97442727757059, 27851.0, 7.592),\n",
       " 'i001_x360_b512k': (360, 640, 23.97442727757059, 461770.0, 7.592),\n",
       " 'i001_x360_b64k': (360, 640, 23.97442727757059, 52583.0, 7.592),\n",
       " 'i001_x480_b1024k': (480, 854, 23.97442727757059, 861970.0, 7.592),\n",
       " 'i001_x480_b128k': (480, 854, 23.97442727757059, 111760.0, 7.592),\n",
       " 'i001_x480_b256k': (480, 854, 23.97442727757059, 218437.0, 7.592),\n",
       " 'i001_x480_b32k': (480, 854, 23.97442727757059, 21588.0, 7.592),\n",
       " 'i001_x480_b512k': (480, 854, 23.97442727757059, 433263.0, 7.592),\n",
       " 'i001_x480_b64k': (480, 854, 23.97442727757059, 48977.0, 7.592),\n",
       " 'i001_x720_b1024k': (720, 1280, 23.97442727757059, 811315.0, 7.592),\n",
       " 'i001_x720_b128k': (720, 1280, 23.97442727757059, 107039.0, 7.592),\n",
       " 'i001_x720_b2048k': (720, 1280, 23.97442727757059, 1631459.0, 7.592),\n",
       " 'i001_x720_b256k': (720, 1280, 23.97442727757059, 216413.0, 7.592),\n",
       " 'i001_x720_b32k': (720, 1280, 23.97442727757059, 21531.0, 7.592),\n",
       " 'i001_x720_b512k': (720, 1280, 23.97442727757059, 419010.0, 7.592),\n",
       " 'i001_x720_b64k': (720, 1280, 23.97442727757059, 43734.0, 7.592)}"
      ]
     },
     "execution_count": 11,
     "metadata": {},
     "output_type": "execute_result"
    }
   ],
   "source": [
    "tempdict['D98TSSeEEXc+0+0']"
   ]
  },
  {
   "cell_type": "code",
   "execution_count": 10,
   "metadata": {},
   "outputs": [
    {
     "name": "stdout",
     "output_type": "stream",
     "text": [
      "D98TSSeEEXc+0+0\n"
     ]
    }
   ],
   "source": [
    "for k in tempdict:\n",
    "    if k.find('D98TSSeE') >= 0:\n",
    "        print k"
   ]
  },
  {
   "cell_type": "code",
   "execution_count": 5,
   "metadata": {},
   "outputs": [
    {
     "data": {
      "text/plain": [
       "1049"
      ]
     },
     "execution_count": 5,
     "metadata": {},
     "output_type": "execute_result"
    }
   ],
   "source": [
    "len(tempdict)"
   ]
  },
  {
   "cell_type": "code",
   "execution_count": null,
   "metadata": {},
   "outputs": [],
   "source": []
  },
  {
   "cell_type": "code",
   "execution_count": null,
   "metadata": {},
   "outputs": [],
   "source": []
  },
  {
   "cell_type": "code",
   "execution_count": null,
   "metadata": {},
   "outputs": [],
   "source": []
  },
  {
   "cell_type": "code",
   "execution_count": null,
   "metadata": {},
   "outputs": [],
   "source": []
  },
  {
   "cell_type": "code",
   "execution_count": null,
   "metadata": {},
   "outputs": [],
   "source": []
  },
  {
   "cell_type": "code",
   "execution_count": 9,
   "metadata": {},
   "outputs": [],
   "source": [
    "dat_raw = np.array(open('./scripts/segmentinfo/metainfo_23.txt').read().split('\\n')[:-1])"
   ]
  },
  {
   "cell_type": "code",
   "execution_count": 10,
   "metadata": {},
   "outputs": [
    {
     "data": {
      "text/plain": [
       "'/home/u9167/content_aware/data/YOUTUBE_data/videos/23/FCJOasI0mVo+23+0/i000_x1080_b128k.mp4'"
      ]
     },
     "execution_count": 10,
     "metadata": {},
     "output_type": "execute_result"
    }
   ],
   "source": [
    "dat_raw[-1]"
   ]
  },
  {
   "cell_type": "code",
   "execution_count": null,
   "metadata": {},
   "outputs": [],
   "source": [
    "#TODO: check the metainfo_23.txt in next 2 hours to see consistency has been fixed\n",
    "'/home/u9167/content_aware/data/YOUTUBE_data/videos/23/FCJOasI0mVo+23+0/i000_x1080_b128k.mp4'"
   ]
  }
 ],
 "metadata": {
  "kernelspec": {
   "display_name": "env_pytorch_python3",
   "language": "python",
   "name": "env_pytorch_python3"
  },
  "language_info": {
   "codemirror_mode": {
    "name": "ipython",
    "version": 3
   },
   "file_extension": ".py",
   "mimetype": "text/x-python",
   "name": "python",
   "nbconvert_exporter": "python",
   "pygments_lexer": "ipython3",
   "version": "3.7.0"
  }
 },
 "nbformat": 4,
 "nbformat_minor": 2
}
